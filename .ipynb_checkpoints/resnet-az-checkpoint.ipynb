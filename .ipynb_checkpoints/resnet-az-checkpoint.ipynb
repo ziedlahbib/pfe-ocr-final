{
 "cells": [
  {
   "cell_type": "code",
   "execution_count": 1,
   "id": "58eda99f-9f7c-4073-b8e9-134f187874dc",
   "metadata": {
    "id": "58eda99f-9f7c-4073-b8e9-134f187874dc"
   },
   "outputs": [],
   "source": [
    "# set the matplotlib backend so figures can be saved in the background\n",
    "import matplotlib\n",
    "matplotlib.use(\"Agg\")\n",
    "# import the necessary packages\n",
    "from tensorflow.keras.preprocessing.image import ImageDataGenerator\n",
    "from tensorflow.keras.optimizers import SGD\n",
    "from sklearn.preprocessing import LabelBinarizer\n",
    "from sklearn.model_selection import train_test_split\n",
    "from sklearn.metrics import classification_report\n",
    "import matplotlib.pyplot as plt\n",
    "import numpy as np\n",
    "import argparse\n",
    "import cv2"
   ]
  },
  {
   "cell_type": "code",
   "execution_count": 2,
   "id": "41fd4596-3af6-4df1-9ff0-ec0f1240e114",
   "metadata": {
    "id": "41fd4596-3af6-4df1-9ff0-ec0f1240e114"
   },
   "outputs": [],
   "source": [
    "from tensorflow.keras.datasets import mnist\n",
    "\n",
    "def load_mnist_dataset():\n",
    "\n",
    "  # load data from tensorflow framework\n",
    "  ((trainData, trainLabels), (testData, testLabels)) = mnist.load_data() \n",
    "\n",
    "  # Stacking train data and test data to form single array named data\n",
    "  data = np.vstack([trainData, testData]) \n",
    "\n",
    "  # Vertical stacking labels of train and test set\n",
    "  labels = np.hstack([trainLabels, testLabels]) \n",
    "\n",
    "  # return a 2-tuple of the MNIST data and labels\n",
    "  return (data, labels)"
   ]
  },
  {
   "cell_type": "code",
   "execution_count": 3,
   "id": "c7f69a24-463a-4f8d-b518-512aba4d32ca",
   "metadata": {
    "id": "c7f69a24-463a-4f8d-b518-512aba4d32ca"
   },
   "outputs": [],
   "source": [
    "import numpy as np\n",
    "\n",
    "def load_az_dataset(datasetPath):\n",
    "\n",
    "  # List for storing data\n",
    "  data = []\n",
    "  \n",
    "  # List for storing labels\n",
    "  labels = []\n",
    "  \n",
    "  for row in open(datasetPath): #Openfile and start reading each row\n",
    "    #Split the row at every comma\n",
    "    row = row.split(\",\")\n",
    "    \n",
    "    #row[0] contains label\n",
    "    label = int(row[0])\n",
    "    \n",
    "    image = np.array([int(x) for x in row[1:]], dtype=\"uint8\")\n",
    "    if image.size < 784:\n",
    "        image = np.pad(image, (0, 784 - image.size), 'constant')\n",
    "    image = image.reshape((28, 28))\n",
    "\n",
    "    \n",
    "    #append image to data\n",
    "    data.append(image)\n",
    "    \n",
    "    #append label to labels\n",
    "    labels.append(label)\n",
    "    \n",
    "  #Converting data to numpy array of type float32\n",
    "  data = np.array(data, dtype='float32')\n",
    "  \n",
    "  #Converting labels to type int\n",
    "  labels = np.array(labels, dtype=\"int\")\n",
    "  \n",
    "  return (data, labels)"
   ]
  },
  {
   "cell_type": "code",
   "execution_count": 4,
   "id": "42aac873-3b88-459f-b711-cb6cbd05122b",
   "metadata": {
    "id": "42aac873-3b88-459f-b711-cb6cbd05122b"
   },
   "outputs": [
    {
     "name": "stdout",
     "output_type": "stream",
     "text": [
      "(372451, 28, 28)\n",
      "(70000, 28, 28)\n"
     ]
    }
   ],
   "source": [
    "\n",
    "(digitsData, digitsLabels) = load_mnist_dataset()\n",
    "\n",
    "(azData, azLabels) = load_az_dataset('Data\\\\A_Z Handwritten Data\\\\A_Z Handwritten Data.csv')\n",
    "\n",
    "print(azData.shape)\n",
    "print(digitsData.shape)\n"
   ]
  },
  {
   "cell_type": "code",
   "execution_count": 5,
   "id": "12839430-9923-41e2-8f64-d098903b01f3",
   "metadata": {
    "id": "12839430-9923-41e2-8f64-d098903b01f3",
    "scrolled": true
   },
   "outputs": [],
   "source": [
    "# the MNIST dataset occupies the labels 0-9, so let's add 10 to every A-Z label to ensure the A-Z characters are not incorrectly labeled \n",
    "\n",
    "azLabels += 10\n",
    "\n",
    "# stack the A-Z data and labels with the MNIST digits data and labels\n",
    "\n",
    "data = np.vstack([azData, digitsData])\n",
    "labels = np.hstack([azLabels, digitsLabels])\n",
    "\n",
    "# Each image in the A-Z and MNIST digts datasets are 28x28 pixels;\n",
    "# However, the architecture we're using is designed for 32x32 images,\n",
    "# So we need to resize them to 32x32\n",
    "\n",
    "data = [cv2.resize(image, (32, 32)) for image in data]\n",
    "data = np.array(data, dtype=\"float32\")\n",
    "\n",
    "# add a channel dimension to every image in the dataset and scale the\n",
    "# pixel intensities of the images from [0, 255] down to [0, 1]\n",
    "\n",
    "data = np.expand_dims(data, axis=-1)\n",
    "data /= 255.0"
   ]
  },
  {
   "cell_type": "code",
   "execution_count": 6,
   "id": "0e221a1c-715b-4337-94cc-d1c4ea95bfbf",
   "metadata": {
    "id": "0e221a1c-715b-4337-94cc-d1c4ea95bfbf"
   },
   "outputs": [],
   "source": [
    "le = LabelBinarizer()\n",
    "labels = le.fit_transform(labels)\n",
    "\n",
    "counts = labels.sum(axis=0)\n",
    "\n",
    "# account for skew in the labeled data\n",
    "classTotals = labels.sum(axis=0)\n",
    "classWeight = {}\n",
    "\n",
    "# loop over all classes and calculate the class weight\n",
    "for i in range(0, len(classTotals)):\n",
    "  classWeight[i] = classTotals.max() / classTotals[i]"
   ]
  },
  {
   "cell_type": "code",
   "execution_count": 7,
   "id": "d70bb371-a6ca-4c90-b420-6b4a1487673d",
   "metadata": {
    "colab": {
     "base_uri": "https://localhost:8080/"
    },
    "id": "d70bb371-a6ca-4c90-b420-6b4a1487673d",
    "outputId": "cfe3fd71-e8cc-4ae5-ffa4-526415f9fb48"
   },
   "outputs": [],
   "source": [
    "# construct the image generator for data augmentation\n",
    "\n",
    "aug = ImageDataGenerator(\n",
    "rotation_range=10,\n",
    "zoom_range=0.05,\n",
    "width_shift_range=0.1,\n",
    "height_shift_range=0.1,\n",
    "shear_range=0.15,\n",
    "horizontal_flip=False,\n",
    "fill_mode=\"nearest\")"
   ]
  },
  {
   "cell_type": "code",
   "execution_count": 8,
   "id": "79046f09",
   "metadata": {},
   "outputs": [],
   "source": [
    "from keras.layers import BatchNormalization\n",
    "from keras.layers.convolutional import Conv2D\n",
    "from keras.layers.convolutional import AveragePooling2D\n",
    "from keras.layers.convolutional import MaxPooling2D\n",
    "from keras.layers.convolutional import ZeroPadding2D\n",
    "from keras.layers.core import Activation\n",
    "from keras.layers.core import Dense\n",
    "from keras.layers import Flatten\n",
    "from keras.layers import Input\n",
    "from keras.models import Model\n",
    "from keras.layers import add\n",
    "from keras.regularizers import l2\n",
    "from keras import backend as K\n",
    "\n",
    "class ResNet:\n",
    "\t@staticmethod\n",
    "\tdef residual_module(data, K, stride, chanDim, red=False,\n",
    "\t\treg=0.0001, bnEps=2e-5, bnMom=0.9):\n",
    "\t\t# the shortcut branch of the ResNet module should be\n",
    "\t\t# initialize as the input (identity) data\n",
    "\t\tshortcut = data\n",
    "\n",
    "\t\t# the first block of the ResNet module are the 1x1 CONVs\n",
    "\t\tbn1 = BatchNormalization(axis=chanDim, epsilon=bnEps,\n",
    "\t\t\tmomentum=bnMom)(data)\n",
    "\t\tact1 = Activation(\"relu\")(bn1)\n",
    "\t\tconv1 = Conv2D(int(K * 0.25), (1, 1), use_bias=False,\n",
    "\t\t\tkernel_regularizer=l2(reg))(act1)\n",
    "\n",
    "\t\t# the second block of the ResNet module are the 3x3 CONVs\n",
    "\t\tbn2 = BatchNormalization(axis=chanDim, epsilon=bnEps,\n",
    "\t\t\tmomentum=bnMom)(conv1)\n",
    "\t\tact2 = Activation(\"relu\")(bn2)\n",
    "\t\tconv2 = Conv2D(int(K * 0.25), (3, 3), strides=stride,\n",
    "\t\t\tpadding=\"same\", use_bias=False,\n",
    "\t\t\tkernel_regularizer=l2(reg))(act2)\n",
    "\n",
    "\t\t# the third block of the ResNet module is another set of 1x1\n",
    "\t\t# CONVs\n",
    "\t\tbn3 = BatchNormalization(axis=chanDim, epsilon=bnEps,\n",
    "\t\t\tmomentum=bnMom)(conv2)\n",
    "\t\tact3 = Activation(\"relu\")(bn3)\n",
    "\t\tconv3 = Conv2D(K, (1, 1), use_bias=False,\n",
    "\t\t\tkernel_regularizer=l2(reg))(act3)\n",
    "\n",
    "\t\t# if we are to reduce the spatial size, apply a CONV layer to\n",
    "\t\t# the shortcut\n",
    "\t\tif red:\n",
    "\t\t\tshortcut = Conv2D(K, (1, 1), strides=stride,\n",
    "\t\t\t\tuse_bias=False, kernel_regularizer=l2(reg))(act1)\n",
    "\n",
    "\t\t# add together the shortcut and the final CONV\n",
    "\t\tx = add([conv3, shortcut])\n",
    "\n",
    "\t\t# return the addition as the output of the ResNet module\n",
    "\t\treturn x\n",
    "\n",
    "\t@staticmethod\n",
    "\tdef build(width, height, depth, classes, stages, filters,\n",
    "\t\treg=0.0001, bnEps=2e-5, bnMom=0.9, dataset=\"cifar\"):\n",
    "\t\t# initialize the input shape to be \"channels last\" and the\n",
    "\t\t# channels dimension itself\n",
    "\t\tinputShape = (height, width, depth)\n",
    "\t\tchanDim = -1\n",
    "\n",
    "\t\t# if we are using \"channels first\", update the input shape\n",
    "\t\t# and channels dimension\n",
    "\t\tif K.image_data_format() == \"channels_first\":\n",
    "\t\t\tinputShape = (depth, height, width)\n",
    "\t\t\tchanDim = 1\n",
    "\n",
    "\t\t# set the input and apply BN\n",
    "\t\tinputs = Input(shape=inputShape)\n",
    "\t\tx = BatchNormalization(axis=chanDim, epsilon=bnEps,\n",
    "\t\t\tmomentum=bnMom)(inputs)\n",
    "\n",
    "\t\t# check if we are utilizing the CIFAR dataset\n",
    "\t\tif dataset == \"cifar\":\n",
    "\t\t\t# apply a single CONV layer\n",
    "\t\t\tx = Conv2D(filters[0], (3, 3), use_bias=False,\n",
    "\t\t\t\tpadding=\"same\", kernel_regularizer=l2(reg))(x)\n",
    "\n",
    "\t\t# check to see if we are using the Tiny ImageNet dataset\n",
    "\t\telif dataset == \"tiny_imagenet\":\n",
    "\t\t\t# apply CONV => BN => ACT => POOL to reduce spatial size\n",
    "\t\t\tx = Conv2D(filters[0], (5, 5), use_bias=False,\n",
    "\t\t\t\tpadding=\"same\", kernel_regularizer=l2(reg))(x)\n",
    "\t\t\tx = BatchNormalization(axis=chanDim, epsilon=bnEps,\n",
    "\t\t\t\tmomentum=bnMom)(x)\n",
    "\t\t\tx = Activation(\"relu\")(x)\n",
    "\t\t\tx = ZeroPadding2D((1, 1))(x)\n",
    "\t\t\tx = MaxPooling2D((3, 3), strides=(2, 2))(x)\n",
    "\n",
    "\t\t# loop over the number of stages\n",
    "\t\tfor i in range(0, len(stages)):\n",
    "\t\t\t# initialize the stride, then apply a residual module\n",
    "\t\t\t# used to reduce the spatial size of the input volume\n",
    "\t\t\tstride = (1, 1) if i == 0 else (2, 2)\n",
    "\t\t\tx = ResNet.residual_module(x, filters[i + 1], stride,\n",
    "\t\t\t\tchanDim, red=True, bnEps=bnEps, bnMom=bnMom)\n",
    "\n",
    "\t\t\t# loop over the number of layers in the stage\n",
    "\t\t\tfor j in range(0, stages[i] - 1):\n",
    "\t\t\t\t# apply a ResNet module\n",
    "\t\t\t\tx = ResNet.residual_module(x, filters[i + 1],\n",
    "\t\t\t\t\t(1, 1), chanDim, bnEps=bnEps, bnMom=bnMom)\n",
    "\n",
    "\t\t# apply BN => ACT => POOL\n",
    "\t\tx = BatchNormalization(axis=chanDim, epsilon=bnEps,\n",
    "\t\t\tmomentum=bnMom)(x)\n",
    "\t\tx = Activation(\"relu\")(x)\n",
    "\t\tx = AveragePooling2D((8, 8))(x)\n",
    "\n",
    "\t\t# softmax classifier\n",
    "\t\tx = Flatten()(x)\n",
    "\t\tx = Dense(classes, kernel_regularizer=l2(reg))(x)\n",
    "\t\tx = Activation(\"softmax\")(x)\n",
    "\n",
    "\t\t# create the model\n",
    "\t\tmodel = Model(inputs, x, name=\"resnet\")\n",
    "\n",
    "\t\t# return the constructed network architecture\n",
    "\t\treturn model"
   ]
  },
  {
   "cell_type": "code",
   "execution_count": 9,
   "id": "90c63062",
   "metadata": {},
   "outputs": [
    {
     "name": "stdout",
     "output_type": "stream",
     "text": [
      "Epoch 1/50\n",
      "2765/2765 [==============================] - 394s 138ms/step - loss: 2.5028 - accuracy: 0.8448 - val_loss: 1.0462 - val_accuracy: 0.8409\n",
      "Epoch 2/50\n",
      "2765/2765 [==============================] - 419s 151ms/step - loss: 1.5229 - accuracy: 0.9007 - val_loss: 0.8280 - val_accuracy: 0.9295\n",
      "Epoch 3/50\n",
      "2765/2765 [==============================] - 421s 152ms/step - loss: 1.4375 - accuracy: 0.9095 - val_loss: 0.9650 - val_accuracy: 0.8416\n",
      "Epoch 4/50\n",
      "2765/2765 [==============================] - 423s 153ms/step - loss: 1.3561 - accuracy: 0.9154 - val_loss: 0.7603 - val_accuracy: 0.9244\n",
      "Epoch 5/50\n",
      "2765/2765 [==============================] - 433s 157ms/step - loss: 1.3171 - accuracy: 0.9182 - val_loss: 0.7159 - val_accuracy: 0.9442\n",
      "Epoch 6/50\n",
      "2765/2765 [==============================] - 441s 159ms/step - loss: 1.2836 - accuracy: 0.9202 - val_loss: 0.9616 - val_accuracy: 0.8381\n",
      "Epoch 7/50\n",
      "2765/2765 [==============================] - 433s 156ms/step - loss: 1.2609 - accuracy: 0.9213 - val_loss: 0.8534 - val_accuracy: 0.8590\n",
      "Epoch 8/50\n",
      "2765/2765 [==============================] - 427s 154ms/step - loss: 1.2549 - accuracy: 0.9220 - val_loss: 0.7503 - val_accuracy: 0.9261\n",
      "Epoch 9/50\n",
      "2765/2765 [==============================] - 412s 149ms/step - loss: 1.1316 - accuracy: 0.9329 - val_loss: 0.7078 - val_accuracy: 0.9208\n",
      "Epoch 19/50\n",
      "2765/2765 [==============================] - 403s 146ms/step - loss: 1.1097 - accuracy: 0.9347 - val_loss: 0.8083 - val_accuracy: 0.8920\n",
      "Epoch 20/50\n",
      "2765/2765 [==============================] - 392s 142ms/step - loss: 1.1175 - accuracy: 0.9354 - val_loss: 0.6591 - val_accuracy: 0.9401\n",
      "Epoch 21/50\n",
      "2765/2765 [==============================] - 384s 139ms/step - loss: 1.1291 - accuracy: 0.9344 - val_loss: 0.6413 - val_accuracy: 0.9484\n",
      "Epoch 22/50\n",
      "2765/2765 [==============================] - 380s 137ms/step - loss: 1.1071 - accuracy: 0.9365 - val_loss: 0.7486 - val_accuracy: 0.9262\n",
      "Epoch 23/50\n",
      "2765/2765 [==============================] - 380s 138ms/step - loss: 1.1258 - accuracy: 0.9364 - val_loss: 0.7451 - val_accuracy: 0.9415\n",
      "Epoch 24/50\n",
      "2765/2765 [==============================] - 387s 140ms/step - loss: 1.0700 - accuracy: 0.9393 - val_loss: 1.1062 - val_accuracy: 0.8870\n",
      "Epoch 25/50\n",
      "2765/2765 [==============================] - 381s 138ms/step - loss: 1.0735 - accuracy: 0.9391 - val_loss: 0.7777 - val_accuracy: 0.8677\n",
      "Epoch 26/50\n",
      "2765/2765 [==============================] - 384s 139ms/step - loss: 1.0618 - accuracy: 0.9402 - val_loss: 0.7305 - val_accuracy: 0.9015\n",
      "Epoch 27/50\n",
      "2765/2765 [==============================] - 383s 139ms/step - loss: 1.0926 - accuracy: 0.9391 - val_loss: 0.7189 - val_accuracy: 0.8814\n",
      "Epoch 28/50\n",
      "2765/2765 [==============================] - 385s 139ms/step - loss: 1.0566 - accuracy: 0.9418 - val_loss: 0.7992 - val_accuracy: 0.8611\n",
      "Epoch 29/50\n",
      "2765/2765 [==============================] - 384s 139ms/step - loss: 1.0360 - accuracy: 0.9428 - val_loss: 4.8793 - val_accuracy: 0.5337\n",
      "Epoch 30/50\n",
      "2765/2765 [==============================] - 382s 138ms/step - loss: 1.0257 - accuracy: 0.9450 - val_loss: 1.5857 - val_accuracy: 0.8265\n",
      "Epoch 31/50\n",
      "2765/2765 [==============================] - 383s 138ms/step - loss: 1.0578 - accuracy: 0.9439 - val_loss: 1.4692 - val_accuracy: 0.7066\n",
      "Epoch 32/50\n",
      "2765/2765 [==============================] - 384s 139ms/step - loss: 1.0719 - accuracy: 0.9423 - val_loss: 1.8520 - val_accuracy: 0.8342\n",
      "Epoch 33/50\n",
      "2765/2765 [==============================] - 381s 138ms/step - loss: 1.0119 - accuracy: 0.9477 - val_loss: 0.5634 - val_accuracy: 0.9724\n",
      "Epoch 34/50\n",
      "2765/2765 [==============================] - 382s 138ms/step - loss: 0.9927 - accuracy: 0.9496 - val_loss: 1.2330 - val_accuracy: 0.7789\n",
      "Epoch 35/50\n",
      "2765/2765 [==============================] - 384s 139ms/step - loss: 1.0242 - accuracy: 0.9491 - val_loss: 2.4714 - val_accuracy: 0.6123\n",
      "Epoch 36/50\n",
      "2765/2765 [==============================] - 383s 138ms/step - loss: 0.9788 - accuracy: 0.9507 - val_loss: 1.2950 - val_accuracy: 0.8432\n",
      "Epoch 37/50\n",
      "2765/2765 [==============================] - 384s 139ms/step - loss: 0.9913 - accuracy: 0.9511 - val_loss: 1.4690 - val_accuracy: 0.7845\n",
      "Epoch 38/50\n",
      "2765/2765 [==============================] - 377s 136ms/step - loss: 1.0659 - accuracy: 0.9392 - val_loss: 0.6242 - val_accuracy: 0.9494\n",
      "Epoch 39/50\n",
      "2765/2765 [==============================] - 384s 139ms/step - loss: 0.9343 - accuracy: 0.9515 - val_loss: 2.1090 - val_accuracy: 0.7421\n",
      "Epoch 46/50\n",
      "2765/2765 [==============================] - 395s 143ms/step - loss: 0.9293 - accuracy: 0.9524 - val_loss: 2.1951 - val_accuracy: 0.6076\n",
      "Epoch 47/50\n",
      "2765/2765 [==============================] - 389s 141ms/step - loss: 0.9351 - accuracy: 0.9538 - val_loss: 2.9592 - val_accuracy: 0.5456\n",
      "Epoch 48/50\n",
      "2765/2765 [==============================] - 397s 144ms/step - loss: 0.9501 - accuracy: 0.9501 - val_loss: 1.8504 - val_accuracy: 0.7363\n",
      "Epoch 49/50\n",
      "2765/2765 [==============================] - 388s 140ms/step - loss: 0.9236 - accuracy: 0.9505 - val_loss: 0.8267 - val_accuracy: 0.9262\n",
      "Epoch 50/50\n",
      "2765/2765 [==============================] - 402s 145ms/step - loss: 0.9297 - accuracy: 0.9534 - val_loss: 4.6757 - val_accuracy: 0.6773\n"
     ]
    }
   ],
   "source": [
    "\n",
    "from tensorflow.keras.optimizers import SGD\n",
    "from tensorflow.keras.utils import to_categorical\n",
    "import numpy as np\n",
    "import requests\n",
    "import tensorflow.keras as keras\n",
    "from sklearn.model_selection import train_test_split\n",
    "import tensorflow as tf\n",
    "EPOCHS = 50\n",
    "INIT_LR = 1e-1\n",
    "BS=128\n",
    "lr_schedule = keras.optimizers.schedules.ExponentialDecay(\n",
    "    initial_learning_rate=INIT_LR,\n",
    "    decay_steps=10000,\n",
    "    decay_rate=0.96)\n",
    "opt = SGD(learning_rate=lr_schedule, momentum=0.9)\n",
    "\n",
    "# Build the model\n",
    "with tf.device('/device:GPU:0'):\n",
    "    model = ResNet.build(32, 32, 1, len(le.classes_), (3, 3, 3),\n",
    "    (64, 64, 128, 256), reg=0.0005)\n",
    "\n",
    "    model.compile(loss=\"categorical_crossentropy\", optimizer=opt,metrics=[\"accuracy\"])\n",
    "    trainX, testX, trainY, testY = train_test_split(data, labels, test_size=0.2, random_state=42)\n",
    "    H = model.fit(\n",
    "    aug.flow(trainX, trainY, batch_size=BS),\n",
    "    validation_data=(testX, testY),\n",
    "    steps_per_epoch=len(trainX) // BS,epochs=EPOCHS,\n",
    "    class_weight=classWeight,\n",
    "    verbose=1)"
   ]
  },
  {
   "cell_type": "code",
   "execution_count": 10,
   "id": "63127327",
   "metadata": {},
   "outputs": [],
   "source": [
    "model.save('resnet-az.h5',save_format=\".h5\")"
   ]
  },
  {
   "cell_type": "code",
   "execution_count": 11,
   "id": "dfef7f1a-290a-4ba1-b8df-5683fd832e19",
   "metadata": {
    "id": "dfef7f1a-290a-4ba1-b8df-5683fd832e19"
   },
   "outputs": [
    {
     "name": "stdout",
     "output_type": "stream",
     "text": [
      "2766/2766 [==============================] - 27s 9ms/step\n"
     ]
    },
    {
     "name": "stderr",
     "output_type": "stream",
     "text": [
      "C:\\Users\\lahbi\\anaconda3\\envs\\PFE\\lib\\site-packages\\sklearn\\metrics\\_classification.py:2326: UserWarning: labels size, 72, does not match size of target_names, 36\n",
      "  warnings.warn(\n",
      "C:\\Users\\lahbi\\anaconda3\\envs\\PFE\\lib\\site-packages\\sklearn\\metrics\\_classification.py:1344: UndefinedMetricWarning: Precision and F-score are ill-defined and being set to 0.0 in labels with no predicted samples. Use `zero_division` parameter to control this behavior.\n",
      "  _warn_prf(average, modifier, msg_start, len(result))\n",
      "C:\\Users\\lahbi\\anaconda3\\envs\\PFE\\lib\\site-packages\\sklearn\\metrics\\_classification.py:1344: UndefinedMetricWarning: Recall and F-score are ill-defined and being set to 0.0 in labels with no true samples. Use `zero_division` parameter to control this behavior.\n",
      "  _warn_prf(average, modifier, msg_start, len(result))\n",
      "C:\\Users\\lahbi\\anaconda3\\envs\\PFE\\lib\\site-packages\\sklearn\\metrics\\_classification.py:1344: UndefinedMetricWarning: Precision and F-score are ill-defined and being set to 0.0 in labels with no predicted samples. Use `zero_division` parameter to control this behavior.\n",
      "  _warn_prf(average, modifier, msg_start, len(result))\n",
      "C:\\Users\\lahbi\\anaconda3\\envs\\PFE\\lib\\site-packages\\sklearn\\metrics\\_classification.py:1344: UndefinedMetricWarning: Recall and F-score are ill-defined and being set to 0.0 in labels with no true samples. Use `zero_division` parameter to control this behavior.\n",
      "  _warn_prf(average, modifier, msg_start, len(result))\n"
     ]
    },
    {
     "name": "stdout",
     "output_type": "stream",
     "text": [
      "              precision    recall  f1-score   support\n",
      "\n",
      "           0       0.07      0.00      0.00      1395\n",
      "           1       0.98      0.30      0.46      1590\n",
      "           2       0.97      0.13      0.22      1395\n",
      "           3       0.98      0.21      0.35      1441\n",
      "           4       0.97      0.18      0.31      1384\n",
      "           5       0.95      0.17      0.28      1265\n",
      "           6       0.97      0.10      0.18      1341\n",
      "           7       0.90      0.18      0.29      1519\n",
      "           8       0.98      0.30      0.46      1368\n",
      "           9       1.00      0.30      0.46      1383\n",
      "           A       0.98      0.57      0.72      2721\n",
      "           B       0.98      0.63      0.77      1733\n",
      "           C       0.84      0.67      0.75      4637\n",
      "           D       0.84      0.66      0.74      2067\n",
      "           E       0.89      0.72      0.79      2297\n",
      "           F       1.00      0.37      0.54       215\n",
      "           G       0.45      0.98      0.61      1185\n",
      "           H       0.95      0.80      0.87      1445\n",
      "           I       0.98      0.27      0.43       227\n",
      "           J       0.65      0.96      0.78      1737\n",
      "           K       1.00      0.69      0.82      1155\n",
      "           L       0.97      0.61      0.75      2262\n",
      "           M       0.99      0.70      0.82      2425\n",
      "           N       0.99      0.48      0.65      3756\n",
      "           O       0.63      0.86      0.73     11615\n",
      "           P       1.00      0.65      0.79      3833\n",
      "           Q       0.95      0.73      0.83      1134\n",
      "           R       0.99      0.47      0.64      2248\n",
      "           S       0.65      0.98      0.78      9875\n",
      "           T       0.86      0.91      0.89      4465\n",
      "           U       0.88      0.75      0.81      5743\n",
      "           V       0.73      0.83      0.78       863\n",
      "           W       0.99      0.83      0.90      2206\n",
      "           X       0.97      0.70      0.81      1189\n",
      "           Y       0.78      0.80      0.79      2155\n",
      "           Z       0.09      1.00      0.17      1222\n",
      "\n",
      "   micro avg       0.68      0.68      0.68     88491\n",
      "   macro avg       0.43      0.28      0.30     88491\n",
      "weighted avg       0.82      0.68      0.69     88491\n",
      "\n"
     ]
    },
    {
     "name": "stderr",
     "output_type": "stream",
     "text": [
      "C:\\Users\\lahbi\\anaconda3\\envs\\PFE\\lib\\site-packages\\sklearn\\metrics\\_classification.py:1344: UndefinedMetricWarning: Precision and F-score are ill-defined and being set to 0.0 in labels with no predicted samples. Use `zero_division` parameter to control this behavior.\n",
      "  _warn_prf(average, modifier, msg_start, len(result))\n",
      "C:\\Users\\lahbi\\anaconda3\\envs\\PFE\\lib\\site-packages\\sklearn\\metrics\\_classification.py:1344: UndefinedMetricWarning: Recall and F-score are ill-defined and being set to 0.0 in labels with no true samples. Use `zero_division` parameter to control this behavior.\n",
      "  _warn_prf(average, modifier, msg_start, len(result))\n"
     ]
    }
   ],
   "source": [
    "#trainX, testX, trainY, testY = train_test_split(data, labels, test_size=0.2, random_state=42)\n",
    "labelNames = \"0123456789ABCDEFGHIJKLMNOPQRSTUVWXYZ\"\n",
    "labelNames = [l for l in labelNames]\n",
    "\n",
    "predictions = model.predict(testX)\n",
    "\n",
    "\n",
    "print(classification_report(testY.argmax(axis=1), predictions.argmax(axis=1), labels=np.arange(72), target_names=labelNames))\n",
    "\n"
   ]
  },
  {
   "cell_type": "code",
   "execution_count": 15,
   "id": "2bc67533-2531-41b4-9c9d-5e145bb275fc",
   "metadata": {
    "id": "2bc67533-2531-41b4-9c9d-5e145bb275fc",
    "scrolled": false
   },
   "outputs": [
    {
     "name": "stdout",
     "output_type": "stream",
     "text": [
      "1/1 [==============================] - 1s 1s/step\n",
      "L\n",
      "1/1 [==============================] - 0s 31ms/step\n",
      "C\n",
      "1/1 [==============================] - 0s 29ms/step\n",
      "U\n",
      "1/1 [==============================] - 0s 26ms/step\n",
      "5\n",
      "1/1 [==============================] - 0s 25ms/step\n",
      "W\n",
      "1/1 [==============================] - 0s 26ms/step\n",
      "P\n",
      "1/1 [==============================] - 0s 25ms/step\n",
      "T\n",
      "1/1 [==============================] - 0s 23ms/step\n",
      "U\n",
      "1/1 [==============================] - 0s 29ms/step\n",
      "8\n",
      "1/1 [==============================] - 0s 23ms/step\n",
      "U\n",
      "1/1 [==============================] - 0s 26ms/step\n",
      "M\n",
      "1/1 [==============================] - 0s 26ms/step\n",
      "M\n",
      "1/1 [==============================] - 0s 26ms/step\n",
      "2\n",
      "1/1 [==============================] - 0s 26ms/step\n",
      "M\n",
      "1/1 [==============================] - 0s 25ms/step\n",
      "8\n",
      "1/1 [==============================] - 0s 26ms/step\n",
      "L\n",
      "1/1 [==============================] - 0s 24ms/step\n",
      "G\n",
      "1/1 [==============================] - 0s 24ms/step\n",
      "5\n",
      "1/1 [==============================] - 0s 25ms/step\n",
      "E\n",
      "1/1 [==============================] - 0s 23ms/step\n",
      "D\n",
      "1/1 [==============================] - 0s 24ms/step\n",
      "P\n",
      "1/1 [==============================] - 0s 28ms/step\n",
      "L\n",
      "1/1 [==============================] - 0s 26ms/step\n",
      "0\n",
      "1/1 [==============================] - 0s 25ms/step\n",
      "8\n",
      "1/1 [==============================] - 0s 27ms/step\n",
      "P\n",
      "1/1 [==============================] - 0s 23ms/step\n",
      "U\n",
      "1/1 [==============================] - 0s 27ms/step\n",
      "U\n",
      "1/1 [==============================] - 0s 24ms/step\n",
      "P\n",
      "1/1 [==============================] - 0s 24ms/step\n",
      "T\n",
      "1/1 [==============================] - 0s 22ms/step\n",
      "8\n",
      "1/1 [==============================] - 0s 24ms/step\n",
      "W\n",
      "1/1 [==============================] - 0s 26ms/step\n",
      "J\n",
      "1/1 [==============================] - 0s 28ms/step\n",
      "K\n",
      "1/1 [==============================] - 0s 26ms/step\n",
      "N\n",
      "1/1 [==============================] - 0s 26ms/step\n",
      "T\n",
      "1/1 [==============================] - 0s 25ms/step\n",
      "7\n",
      "1/1 [==============================] - 0s 25ms/step\n",
      "T\n",
      "1/1 [==============================] - 0s 24ms/step\n",
      "P\n",
      "1/1 [==============================] - 0s 26ms/step\n",
      "P\n",
      "1/1 [==============================] - 0s 24ms/step\n",
      "3\n",
      "1/1 [==============================] - 0s 25ms/step\n",
      "P\n",
      "1/1 [==============================] - 0s 26ms/step\n",
      "G\n",
      "1/1 [==============================] - 0s 27ms/step\n",
      "X\n",
      "1/1 [==============================] - 0s 28ms/step\n",
      "4\n",
      "1/1 [==============================] - 0s 24ms/step\n",
      "3\n",
      "1/1 [==============================] - 0s 26ms/step\n",
      "Y\n",
      "1/1 [==============================] - 0s 31ms/step\n",
      "W\n",
      "1/1 [==============================] - 0s 28ms/step\n",
      "G\n",
      "1/1 [==============================] - 0s 26ms/step\n",
      "B\n"
     ]
    },
    {
     "data": {
      "text/plain": [
       "-1"
      ]
     },
     "execution_count": 15,
     "metadata": {},
     "output_type": "execute_result"
    }
   ],
   "source": [
    "import cv2\n",
    "import numpy as np\n",
    "from tensorflow.keras.models import load_model\n",
    "\n",
    "model = load_model(\"resnet.h5\")\n",
    "\n",
    "output = \"\"\n",
    "images = []\n",
    "test=\n",
    "for i in np.random.choice(np.arange(0, len(testY)), size=(49,)):\n",
    "    probs = model.predict(testX[np.newaxis, i])\n",
    "    prediction = probs.argmax(axis=1)\n",
    "    print(labelNames[prediction[0]])\n",
    "    label = labelNames[prediction[0]]\n",
    "    output += label\n",
    "    image = (testX[i] * 255).astype(\"uint8\")\n",
    "    color = (0, 255, 0)\n",
    "    if prediction[0] != np.argmax(testY[i]):\n",
    "        color = (0, 0, 255)\n",
    "    image = cv2.cvtColor(image, cv2.COLOR_RGB2BGR)\n",
    "    image = cv2.resize(image, (96, 96), interpolation=cv2.INTER_LINEAR)\n",
    "    cv2.putText(image, label, (5, 20), cv2.FONT_HERSHEY_SIMPLEX, 0.75,\n",
    "                color, 2)\n",
    "    images.append(image)\n",
    "\n",
    "\n",
    "montage = np.zeros((7 * 96, 7 * 96, 3), dtype=\"uint8\")\n",
    "\n",
    "for i in range(0, 49):\n",
    "    row = int(i / 7)\n",
    "    col = i % 7\n",
    "    montage[row * 96:(row + 1) * 96, col * 96:(col + 1) * 96] = images[i]\n",
    "\n",
    "cv2.imshow(\"Montage\", montage)\n",
    "cv2.waitKey(0)\n",
    "\n"
   ]
  },
  {
   "cell_type": "code",
   "execution_count": null,
   "id": "2de48987-e574-4df7-8994-bdbd205e37e0",
   "metadata": {
    "id": "2de48987-e574-4df7-8994-bdbd205e37e0"
   },
   "outputs": [],
   "source": [
    "import cv2\n",
    "import numpy as np\n",
    "import tkinter as tk\n",
    "from tkinter import filedialog\n",
    "from tensorflow.keras.models import load_model\n",
    "import imutils\n",
    "import tensorflow as tf\n",
    "\n",
    "# Create a Tkinter root window (hidden)\n",
    "root = tk.Tk()\n",
    "root.withdraw()\n",
    "\n",
    "# Ask the user to select an image file using a file dialog box\n",
    "file_path = filedialog.askopenfilename(filetypes=[(\"Image files\", \"*.jpg;*.jpeg;*.png\")])\n",
    "\n",
    "\n",
    "model = load_model(\"resnet.h5\")\n",
    "labelNames = \"0123456789ABCDEFGHIJKLMNOPQRSTUVWXYZ0123456789ABCDEFGHIJKLMNOPQRSTUVWXYZ\"\n",
    "\n",
    "# Read image\n",
    "image = cv2.imread(file_path)\n",
    "\n",
    "# Convert to grayscale\n",
    "gray = cv2.cvtColor(image, cv2.COLOR_BGR2GRAY)\n",
    "\n",
    "# Threshold image\n",
    "_, thresh = cv2.threshold(gray, 0, 255, cv2.THRESH_BINARY_INV | cv2.THRESH_OTSU)\n",
    "\n",
    "# Find contours in the image\n",
    "contours, _ = cv2.findContours(thresh, cv2.RETR_EXTERNAL, cv2.CHAIN_APPROX_SIMPLE)\n",
    "\n",
    "# Sort contours left-to-right\n",
    "contours = sorted(contours, key=lambda ctr: cv2.boundingRect(ctr)[0])\n",
    "\n",
    "output = \"\"\n",
    "for contour in contours:\n",
    "    # Get bounding box of contour\n",
    "    x, y, w, h = cv2.boundingRect(contour)\n",
    "    \n",
    "    # Extract character image from thresholded image\n",
    "    roi = thresh[y:y+h, x:x+w]\n",
    "    \n",
    "    # Resize character image to 32x32\n",
    "    roi = cv2.resize(roi, (32, 32), interpolation=cv2.INTER_LINEAR)\n",
    "    \n",
    "    # Add channel dimension to character image\n",
    "    roi = np.expand_dims(roi, axis=-1)\n",
    "    \n",
    "    # Normalize pixel values to range [0, 1]\n",
    "    roi = roi.astype(\"float\") / 255.0\n",
    "    \n",
    "    # Make prediction using OCR model\n",
    "    with tf.device('/device:GPU:0'):\n",
    "        probs = model.predict(np.array([roi]))\n",
    "        prediction = probs.argmax(axis=1)\n",
    "        label = labelNames[prediction[0]]\n",
    "        output += label\n",
    "        cv2.putText(image, str(label[0]), (x, y), cv2.FONT_HERSHEY_SIMPLEX, 1, (0, 255, 0), 2)\n",
    "\n",
    "# Display the image with recognized text\n",
    "cv2.imshow(\"image\", image)\n",
    "cv2.waitKey(0)\n",
    "cv2.destroyAllWindows()\n",
    "# Print recognized text\n",
    "print(\"Recognized text:\", output)\n",
    "\n"
   ]
  },
  {
   "cell_type": "code",
   "execution_count": null,
   "id": "e87458b5-f7dc-4e86-85ca-0b4b1237bfe9",
   "metadata": {
    "id": "e87458b5-f7dc-4e86-85ca-0b4b1237bfe9"
   },
   "outputs": [],
   "source": []
  },
  {
   "cell_type": "code",
   "execution_count": null,
   "id": "31134eaf-ef16-4f48-8d11-76a38d45f12e",
   "metadata": {
    "id": "31134eaf-ef16-4f48-8d11-76a38d45f12e"
   },
   "outputs": [],
   "source": []
  },
  {
   "cell_type": "code",
   "execution_count": null,
   "id": "4fac493a-b3ad-4185-884f-752eb9a382af",
   "metadata": {
    "id": "4fac493a-b3ad-4185-884f-752eb9a382af"
   },
   "outputs": [],
   "source": []
  },
  {
   "cell_type": "code",
   "execution_count": null,
   "id": "a55bf0e0-fb5a-47a4-a4e6-06a22e148c2f",
   "metadata": {
    "id": "a55bf0e0-fb5a-47a4-a4e6-06a22e148c2f"
   },
   "outputs": [],
   "source": []
  },
  {
   "cell_type": "code",
   "execution_count": null,
   "id": "6160aede-c0ae-469f-8092-f245cf0965d2",
   "metadata": {
    "id": "6160aede-c0ae-469f-8092-f245cf0965d2"
   },
   "outputs": [],
   "source": []
  },
  {
   "cell_type": "code",
   "execution_count": null,
   "id": "a8fdc2f9-1129-4325-9eb9-f3111212a84c",
   "metadata": {
    "id": "a8fdc2f9-1129-4325-9eb9-f3111212a84c"
   },
   "outputs": [],
   "source": []
  },
  {
   "cell_type": "code",
   "execution_count": null,
   "id": "ce9a98ef-961c-4242-b215-daa48c9280b9",
   "metadata": {
    "id": "ce9a98ef-961c-4242-b215-daa48c9280b9"
   },
   "outputs": [],
   "source": []
  },
  {
   "cell_type": "code",
   "execution_count": null,
   "id": "57ff1176-b054-400a-a085-664c11a3b09f",
   "metadata": {
    "id": "57ff1176-b054-400a-a085-664c11a3b09f"
   },
   "outputs": [],
   "source": []
  },
  {
   "cell_type": "code",
   "execution_count": null,
   "id": "145029dd-0fa4-43cf-b744-3f97b2f0ccb4",
   "metadata": {
    "id": "145029dd-0fa4-43cf-b744-3f97b2f0ccb4"
   },
   "outputs": [],
   "source": []
  },
  {
   "cell_type": "code",
   "execution_count": null,
   "id": "d00e6273-c34c-44bf-9e9f-d99a40f6e2f0",
   "metadata": {
    "id": "d00e6273-c34c-44bf-9e9f-d99a40f6e2f0"
   },
   "outputs": [],
   "source": []
  },
  {
   "cell_type": "code",
   "execution_count": null,
   "id": "629b90c1-31f5-42e6-8566-188d486ba76a",
   "metadata": {
    "id": "629b90c1-31f5-42e6-8566-188d486ba76a"
   },
   "outputs": [],
   "source": []
  },
  {
   "cell_type": "code",
   "execution_count": null,
   "id": "d4a6c854-4f73-4dcb-a94c-c1c5225c17a0",
   "metadata": {
    "id": "d4a6c854-4f73-4dcb-a94c-c1c5225c17a0"
   },
   "outputs": [],
   "source": []
  },
  {
   "cell_type": "code",
   "execution_count": null,
   "id": "cf935028-09bf-4ab8-b833-88f2b43b2f6f",
   "metadata": {
    "id": "cf935028-09bf-4ab8-b833-88f2b43b2f6f"
   },
   "outputs": [],
   "source": []
  },
  {
   "cell_type": "code",
   "execution_count": null,
   "id": "7adc5375-6145-4ea6-95d8-011b61d01817",
   "metadata": {
    "id": "7adc5375-6145-4ea6-95d8-011b61d01817"
   },
   "outputs": [],
   "source": []
  },
  {
   "cell_type": "code",
   "execution_count": null,
   "id": "60e601f0-8777-4bde-b8a6-588fe8204345",
   "metadata": {
    "id": "60e601f0-8777-4bde-b8a6-588fe8204345"
   },
   "outputs": [],
   "source": []
  },
  {
   "cell_type": "code",
   "execution_count": null,
   "id": "9457a408-5a46-4ccc-8bcd-46bf15480853",
   "metadata": {
    "id": "9457a408-5a46-4ccc-8bcd-46bf15480853"
   },
   "outputs": [],
   "source": []
  },
  {
   "cell_type": "code",
   "execution_count": null,
   "id": "269cab8e-871c-422f-a19b-ec397c3937c8",
   "metadata": {
    "id": "269cab8e-871c-422f-a19b-ec397c3937c8"
   },
   "outputs": [],
   "source": []
  },
  {
   "cell_type": "code",
   "execution_count": null,
   "id": "59b5da6e-d8c6-474a-b434-ee6b4b9f1a41",
   "metadata": {
    "id": "59b5da6e-d8c6-474a-b434-ee6b4b9f1a41"
   },
   "outputs": [],
   "source": []
  },
  {
   "cell_type": "code",
   "execution_count": null,
   "id": "2280b3b7-f69a-42ad-a5a8-51e6c05b6fc2",
   "metadata": {
    "id": "2280b3b7-f69a-42ad-a5a8-51e6c05b6fc2"
   },
   "outputs": [],
   "source": []
  },
  {
   "cell_type": "code",
   "execution_count": null,
   "id": "a52881bb-97b5-427f-a767-4c2fed49e0f1",
   "metadata": {
    "id": "a52881bb-97b5-427f-a767-4c2fed49e0f1"
   },
   "outputs": [],
   "source": []
  },
  {
   "cell_type": "code",
   "execution_count": null,
   "id": "f46dff8e-f14f-4db2-ba66-8ab38d351654",
   "metadata": {
    "id": "f46dff8e-f14f-4db2-ba66-8ab38d351654"
   },
   "outputs": [],
   "source": []
  },
  {
   "cell_type": "code",
   "execution_count": null,
   "id": "9645b7b2-dec4-4a7d-8bb1-7c972c841d4b",
   "metadata": {
    "id": "9645b7b2-dec4-4a7d-8bb1-7c972c841d4b"
   },
   "outputs": [],
   "source": []
  },
  {
   "cell_type": "code",
   "execution_count": null,
   "id": "1637b08d-c938-49ea-b1d0-93674facb436",
   "metadata": {
    "id": "1637b08d-c938-49ea-b1d0-93674facb436"
   },
   "outputs": [],
   "source": []
  },
  {
   "cell_type": "code",
   "execution_count": null,
   "id": "041c6706-e218-4ae8-b29d-110b1dbdba97",
   "metadata": {
    "id": "041c6706-e218-4ae8-b29d-110b1dbdba97"
   },
   "outputs": [],
   "source": []
  },
  {
   "cell_type": "code",
   "execution_count": null,
   "id": "9022e09c-507a-4b0b-b2fa-f5b9be42582f",
   "metadata": {
    "id": "9022e09c-507a-4b0b-b2fa-f5b9be42582f"
   },
   "outputs": [],
   "source": []
  },
  {
   "cell_type": "code",
   "execution_count": null,
   "id": "0225a8f5-c692-43cb-ae32-d9a3c68e6957",
   "metadata": {
    "id": "0225a8f5-c692-43cb-ae32-d9a3c68e6957"
   },
   "outputs": [],
   "source": []
  },
  {
   "cell_type": "code",
   "execution_count": null,
   "id": "aca37699-be20-47b2-93f4-0f374f64c4ef",
   "metadata": {
    "id": "aca37699-be20-47b2-93f4-0f374f64c4ef"
   },
   "outputs": [],
   "source": []
  },
  {
   "cell_type": "code",
   "execution_count": null,
   "id": "aa244656-a018-41e0-b1c0-ddd6bd993e21",
   "metadata": {
    "id": "aa244656-a018-41e0-b1c0-ddd6bd993e21"
   },
   "outputs": [],
   "source": []
  },
  {
   "cell_type": "code",
   "execution_count": null,
   "id": "f1a81234-9c86-4648-b6c0-88df8b43968f",
   "metadata": {
    "id": "f1a81234-9c86-4648-b6c0-88df8b43968f"
   },
   "outputs": [],
   "source": []
  },
  {
   "cell_type": "code",
   "execution_count": null,
   "id": "4279c3ca-f4de-4ed5-a6ea-3320d8d23ff2",
   "metadata": {
    "id": "4279c3ca-f4de-4ed5-a6ea-3320d8d23ff2"
   },
   "outputs": [],
   "source": []
  },
  {
   "cell_type": "code",
   "execution_count": null,
   "id": "109695d2-3617-442a-ac17-e70127c6658e",
   "metadata": {
    "id": "109695d2-3617-442a-ac17-e70127c6658e"
   },
   "outputs": [],
   "source": []
  },
  {
   "cell_type": "code",
   "execution_count": null,
   "id": "7524ab62-cbd7-40eb-b34a-b171cd0881ac",
   "metadata": {
    "id": "7524ab62-cbd7-40eb-b34a-b171cd0881ac"
   },
   "outputs": [],
   "source": []
  },
  {
   "cell_type": "code",
   "execution_count": null,
   "id": "e989834a-dfd4-4c7f-97eb-08f6adc8f5f3",
   "metadata": {
    "id": "e989834a-dfd4-4c7f-97eb-08f6adc8f5f3"
   },
   "outputs": [],
   "source": []
  },
  {
   "cell_type": "code",
   "execution_count": null,
   "id": "900a3dd6-d46f-4d77-be1c-d7076744dff1",
   "metadata": {
    "id": "900a3dd6-d46f-4d77-be1c-d7076744dff1"
   },
   "outputs": [],
   "source": []
  },
  {
   "cell_type": "code",
   "execution_count": null,
   "id": "78663495-dd79-4b86-8873-4a4ff2fe022e",
   "metadata": {
    "id": "78663495-dd79-4b86-8873-4a4ff2fe022e"
   },
   "outputs": [],
   "source": []
  },
  {
   "cell_type": "code",
   "execution_count": null,
   "id": "b41af652-18fa-4f1a-b13a-3271da0b8fc7",
   "metadata": {
    "id": "b41af652-18fa-4f1a-b13a-3271da0b8fc7"
   },
   "outputs": [],
   "source": []
  }
 ],
 "metadata": {
  "colab": {
   "provenance": []
  },
  "kernelspec": {
   "display_name": "Python 3 (ipykernel)",
   "language": "python",
   "name": "python3"
  },
  "language_info": {
   "codemirror_mode": {
    "name": "ipython",
    "version": 3
   },
   "file_extension": ".py",
   "mimetype": "text/x-python",
   "name": "python",
   "nbconvert_exporter": "python",
   "pygments_lexer": "ipython3",
   "version": "3.10.11"
  }
 },
 "nbformat": 4,
 "nbformat_minor": 5
}
